{
  "nbformat": 4,
  "nbformat_minor": 0,
  "metadata": {
    "colab": {
      "provenance": [],
      "include_colab_link": true
    },
    "kernelspec": {
      "name": "python3",
      "display_name": "Python 3"
    },
    "language_info": {
      "name": "python"
    }
  },
  "cells": [
    {
      "cell_type": "markdown",
      "metadata": {
        "id": "view-in-github",
        "colab_type": "text"
      },
      "source": [
        "<a href=\"https://colab.research.google.com/github/jeet0474/Machine-Learning-Projects-2024/blob/main/Jeet_Patel_(202201216).ipynb\" target=\"_parent\"><img src=\"https://colab.research.google.com/assets/colab-badge.svg\" alt=\"Open In Colab\"/></a>"
      ]
    },
    {
      "cell_type": "markdown",
      "source": [
        "# **Week-1**"
      ],
      "metadata": {
        "id": "U9wMgQMPc8ee"
      }
    },
    {
      "cell_type": "markdown",
      "source": [
        "### **Data types: strings, integers, floats, lists, tuples, and dictionaries**"
      ],
      "metadata": {
        "id": "gkJY0j5SPslo"
      }
    },
    {
      "cell_type": "code",
      "execution_count": null,
      "metadata": {
        "colab": {
          "base_uri": "https://localhost:8080/"
        },
        "id": "fFr8E5MYPoC8",
        "outputId": "b261b2a0-de05-4ca3-ab44-d006405bd459"
      },
      "outputs": [
        {
          "output_type": "stream",
          "name": "stdout",
          "text": [
            "Jeet Patel\n",
            "<class 'str'>\n"
          ]
        }
      ],
      "source": [
        "# string\n",
        "x = \"Jeet Patel\"\n",
        "\n",
        "print(x)\n",
        "print(type(x))"
      ]
    },
    {
      "cell_type": "code",
      "source": [
        "# integer\n",
        "x = 20\n",
        "print(x)\n",
        "\n",
        "y = int(20.5)\n",
        "print(y)"
      ],
      "metadata": {
        "colab": {
          "base_uri": "https://localhost:8080/"
        },
        "id": "QF-FR0V9Qnrt",
        "outputId": "f7d0093f-de30-4299-9049-ca9b717c3875"
      },
      "execution_count": null,
      "outputs": [
        {
          "output_type": "stream",
          "name": "stdout",
          "text": [
            "20\n",
            "20\n"
          ]
        }
      ]
    },
    {
      "cell_type": "code",
      "source": [
        "# float\n",
        "x = 20.5\n",
        "print(x)"
      ],
      "metadata": {
        "colab": {
          "base_uri": "https://localhost:8080/"
        },
        "id": "1wkh2mvZRop3",
        "outputId": "4ddb32bd-a30d-445d-9fb9-753a29be8e04"
      },
      "execution_count": null,
      "outputs": [
        {
          "output_type": "stream",
          "name": "stdout",
          "text": [
            "20.5\n"
          ]
        }
      ]
    },
    {
      "cell_type": "code",
      "source": [
        "# lists\n",
        "x = [\"Jeet\", \"Patel\"]\n",
        "print(x)"
      ],
      "metadata": {
        "colab": {
          "base_uri": "https://localhost:8080/"
        },
        "id": "euUco-VpR5vk",
        "outputId": "3634f006-a149-43a9-d9b7-5f9ca34998cd"
      },
      "execution_count": null,
      "outputs": [
        {
          "output_type": "stream",
          "name": "stdout",
          "text": [
            "['Jeet', 'Patel']\n"
          ]
        }
      ]
    },
    {
      "cell_type": "code",
      "source": [
        "# tuples\n",
        "x = (\"Jeet\", \"Patel\")\n",
        "print(x)"
      ],
      "metadata": {
        "colab": {
          "base_uri": "https://localhost:8080/"
        },
        "id": "u_bihd2yR7MJ",
        "outputId": "3748b8ae-71ae-4cec-edd3-39cd2eba2676"
      },
      "execution_count": null,
      "outputs": [
        {
          "output_type": "stream",
          "name": "stdout",
          "text": [
            "('Jeet', 'Patel')\n"
          ]
        }
      ]
    },
    {
      "cell_type": "code",
      "source": [
        "# dictionaries\n",
        "x = {\"name\" : \"Jeet Patel\", \"ID\" : 202201216}\n",
        "print(x)"
      ],
      "metadata": {
        "colab": {
          "base_uri": "https://localhost:8080/"
        },
        "id": "fkbxgWeHR-tS",
        "outputId": "79ca8e78-140f-4e87-a8b5-0eeec24fc09f"
      },
      "execution_count": null,
      "outputs": [
        {
          "output_type": "stream",
          "name": "stdout",
          "text": [
            "{'name': 'Jeet Patel', 'ID': 202201216}\n"
          ]
        }
      ]
    },
    {
      "cell_type": "markdown",
      "source": [
        "### **Operators: arithmetic operations, logical operations, and comparison operations.**"
      ],
      "metadata": {
        "id": "LxMeg13GS6Na"
      }
    },
    {
      "cell_type": "code",
      "source": [
        "# arithmatic operators\n",
        "\n",
        "# addition\n",
        "x = 10\n",
        "y = 2\n",
        "print(x + y)\n",
        "\n",
        "# subtraction\n",
        "x = 10\n",
        "y = 2\n",
        "print(x - y)\n",
        "\n",
        "# multiplication\n",
        "x = 10\n",
        "y = 2\n",
        "print(x * y)\n",
        "\n",
        "# division\n",
        "x = 10\n",
        "y = 2\n",
        "print(x / y)\n",
        "\n",
        "# modulus\n",
        "x = 10\n",
        "y = 2\n",
        "print(x % y)\n",
        "\n",
        "# exponentiation\n",
        "x = 10\n",
        "y = 2\n",
        "print(x ** y)\n",
        "\n",
        "# floor division\n",
        "x = 10\n",
        "y = 2\n",
        "print(x // y)"
      ],
      "metadata": {
        "colab": {
          "base_uri": "https://localhost:8080/"
        },
        "id": "epl0X42HToJJ",
        "outputId": "b28cdb93-2172-4b06-ecbc-0f6afc7306cf"
      },
      "execution_count": null,
      "outputs": [
        {
          "output_type": "stream",
          "name": "stdout",
          "text": [
            "12\n",
            "8\n",
            "20\n",
            "5.0\n",
            "0\n",
            "100\n",
            "5\n"
          ]
        }
      ]
    },
    {
      "cell_type": "code",
      "source": [
        "# logical operators\n",
        "\n",
        "# and\n",
        "x = 10\n",
        "y = 2\n",
        "print(x > 0 and y > 0)\n",
        "\n",
        "# not\n",
        "x = 10\n",
        "y = 2\n",
        "print(not(x > 0 and y > 0))\n",
        "\n",
        "# or\n",
        "x = 10\n",
        "y = 2\n",
        "print(x > 0 or y < 0)"
      ],
      "metadata": {
        "colab": {
          "base_uri": "https://localhost:8080/"
        },
        "id": "SqfBfB2GUjWx",
        "outputId": "287756b1-c84b-455b-cfa8-61d5b6ddeecb"
      },
      "execution_count": null,
      "outputs": [
        {
          "output_type": "stream",
          "name": "stdout",
          "text": [
            "True\n",
            "False\n",
            "True\n"
          ]
        }
      ]
    },
    {
      "cell_type": "code",
      "source": [
        "# comparison operators\n",
        "\n",
        "# equal\n",
        "x = 10\n",
        "y = 2\n",
        "print(x == y)\n",
        "\n",
        "# not equal\n",
        "x = 10\n",
        "y = 2\n",
        "print(x != y)\n",
        "\n",
        "# greater than\n",
        "x = 10\n",
        "y = 2\n",
        "print(x > y)\n",
        "\n",
        "# less than\n",
        "x = 10\n",
        "y = 2\n",
        "print(x < y)\n",
        "\n",
        "# greater than or equal to\n",
        "x = 10\n",
        "y = 10\n",
        "print(x >= y)\n",
        "\n",
        "# less than or equal to\n",
        "x = 10\n",
        "y = 2\n",
        "print(x <= y)"
      ],
      "metadata": {
        "colab": {
          "base_uri": "https://localhost:8080/"
        },
        "id": "s6T-WXURU8X3",
        "outputId": "d762f207-cb86-42a2-cbec-b482ee0b5f88"
      },
      "execution_count": null,
      "outputs": [
        {
          "output_type": "stream",
          "name": "stdout",
          "text": [
            "False\n",
            "True\n",
            "True\n",
            "False\n",
            "True\n",
            "False\n"
          ]
        }
      ]
    },
    {
      "cell_type": "markdown",
      "source": [
        "### **Control flow statements: if statements, else statements, elif statements, for loops, and while loops**"
      ],
      "metadata": {
        "id": "jztNzO5eWrQR"
      }
    },
    {
      "cell_type": "code",
      "source": [
        "# if statements, else statements, elif statements\n",
        "\n",
        "a = 100\n",
        "b = 200\n",
        "if b > a:\n",
        "  print(\"b is greater than a\")\n",
        "elif a == b:\n",
        "  print(\"a and b are equal\")\n",
        "else:\n",
        "  print(\"a is greater than b\")"
      ],
      "metadata": {
        "colab": {
          "base_uri": "https://localhost:8080/"
        },
        "id": "jkcQGFC8WqAC",
        "outputId": "42505d1c-a158-45e5-96e4-b62ffafa80e2"
      },
      "execution_count": null,
      "outputs": [
        {
          "output_type": "stream",
          "name": "stdout",
          "text": [
            "b is greater than a\n"
          ]
        }
      ]
    },
    {
      "cell_type": "code",
      "source": [
        "# for loop\n",
        "\n",
        "name = [\"Jeet\", \"Patel\"]\n",
        "for x in name:\n",
        "  print(x)"
      ],
      "metadata": {
        "colab": {
          "base_uri": "https://localhost:8080/"
        },
        "id": "xA4qBMXQXRlC",
        "outputId": "253f25dc-3c44-4f09-ad6c-d232f968ac44"
      },
      "execution_count": null,
      "outputs": [
        {
          "output_type": "stream",
          "name": "stdout",
          "text": [
            "Jeet\n",
            "Patel\n"
          ]
        }
      ]
    },
    {
      "cell_type": "code",
      "source": [
        "# while loop\n",
        "\n",
        "i = 1\n",
        "while i < 5: # print 1 to 4\n",
        "  print(i)\n",
        "  i += 1"
      ],
      "metadata": {
        "colab": {
          "base_uri": "https://localhost:8080/"
        },
        "id": "A4TYqdJbXi5D",
        "outputId": "b9dc103d-6465-4096-dff6-866d3223f87b"
      },
      "execution_count": null,
      "outputs": [
        {
          "output_type": "stream",
          "name": "stdout",
          "text": [
            "1\n",
            "2\n",
            "3\n",
            "4\n"
          ]
        }
      ]
    },
    {
      "cell_type": "markdown",
      "source": [
        "### **Functions**"
      ],
      "metadata": {
        "id": "OfcCiuMOYCUk"
      }
    },
    {
      "cell_type": "code",
      "source": [
        "def my_name():\n",
        "  print(\"Jeet Patel\")\n",
        "\n",
        "my_name()"
      ],
      "metadata": {
        "colab": {
          "base_uri": "https://localhost:8080/"
        },
        "id": "u9Qr3srRYDXH",
        "outputId": "bffbfbf5-3303-47ac-eb3e-3cc1d4d60c0b"
      },
      "execution_count": null,
      "outputs": [
        {
          "output_type": "stream",
          "name": "stdout",
          "text": [
            "Jeet Patel\n"
          ]
        }
      ]
    },
    {
      "cell_type": "markdown",
      "source": [
        "### **Error handling**"
      ],
      "metadata": {
        "id": "X45GGtUHYZH-"
      }
    },
    {
      "cell_type": "code",
      "source": [
        "# try will generate error because z is not defined\n",
        "try:\n",
        "  print(z)\n",
        "except:\n",
        "  print(\"An exception occurred\")\n",
        "finally: # finally block will execute regardless of the try and except block\n",
        "  print(\"Jeet\")"
      ],
      "metadata": {
        "colab": {
          "base_uri": "https://localhost:8080/"
        },
        "id": "J5ERUaHDYaGH",
        "outputId": "38fa4913-edfc-447c-f6d9-52265bffe1f2"
      },
      "execution_count": null,
      "outputs": [
        {
          "output_type": "stream",
          "name": "stdout",
          "text": [
            "An exception occurred\n",
            "Jeet\n"
          ]
        }
      ]
    },
    {
      "cell_type": "markdown",
      "source": [
        "### **Input Output**"
      ],
      "metadata": {
        "id": "zggof9JpZo6U"
      }
    },
    {
      "cell_type": "code",
      "source": [
        "# input\n",
        "num = input('num: ')\n",
        "# output\n",
        "print('You entered: ', num)"
      ],
      "metadata": {
        "colab": {
          "base_uri": "https://localhost:8080/"
        },
        "id": "sleV8r1WZuJM",
        "outputId": "448ab745-eba2-4950-8d57-0c92097f17bf"
      },
      "execution_count": null,
      "outputs": [
        {
          "output_type": "stream",
          "name": "stdout",
          "text": [
            "num: 10\n",
            "You entered:  10\n"
          ]
        }
      ]
    }
  ]
}